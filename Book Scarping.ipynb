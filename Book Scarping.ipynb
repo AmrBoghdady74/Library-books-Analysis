{
 "cells": [
  {
   "cell_type": "code",
   "execution_count": 1,
   "metadata": {},
   "outputs": [],
   "source": [
    "import requests\n",
    "from bs4 import BeautifulSoup"
   ]
  },
  {
   "cell_type": "code",
   "execution_count": 2,
   "metadata": {},
   "outputs": [],
   "source": [
    "response = requests.request('GET', 'http://books.toscrape.com/catalogue/category/books/mystery_3/index.html')\n",
    "soup = BeautifulSoup(response.content, 'html.parser')"
   ]
  },
  {
   "cell_type": "code",
   "execution_count": 3,
   "metadata": {},
   "outputs": [
    {
     "data": {
      "text/plain": [
       "20"
      ]
     },
     "execution_count": 3,
     "metadata": {},
     "output_type": "execute_result"
    }
   ],
   "source": [
    "all_articles = soup.find_all('article', attrs={'class': 'product_pod'})\n",
    "len(all_articles)"
   ]
  },
  {
   "cell_type": "code",
   "execution_count": 4,
   "metadata": {},
   "outputs": [
    {
     "data": {
      "text/plain": [
       "<article class=\"product_pod\">\n",
       "<div class=\"image_container\">\n",
       "<a href=\"../../../sharp-objects_997/index.html\"><img alt=\"Sharp Objects\" class=\"thumbnail\" src=\"../../../../media/cache/32/51/3251cf3a3412f53f339e42cac2134093.jpg\"/></a>\n",
       "</div>\n",
       "<p class=\"star-rating Four\">\n",
       "<i class=\"icon-star\"></i>\n",
       "<i class=\"icon-star\"></i>\n",
       "<i class=\"icon-star\"></i>\n",
       "<i class=\"icon-star\"></i>\n",
       "<i class=\"icon-star\"></i>\n",
       "</p>\n",
       "<h3><a href=\"../../../sharp-objects_997/index.html\" title=\"Sharp Objects\">Sharp Objects</a></h3>\n",
       "<div class=\"product_price\">\n",
       "<p class=\"price_color\">£47.82</p>\n",
       "<p class=\"instock availability\">\n",
       "<i class=\"icon-ok\"></i>\n",
       "    \n",
       "        In stock\n",
       "    \n",
       "</p>\n",
       "<form>\n",
       "<button class=\"btn btn-primary btn-block\" data-loading-text=\"Adding...\" type=\"submit\">Add to basket</button>\n",
       "</form>\n",
       "</div>\n",
       "</article>"
      ]
     },
     "execution_count": 4,
     "metadata": {},
     "output_type": "execute_result"
    }
   ],
   "source": [
    "all_articles[0]"
   ]
  },
  {
   "cell_type": "code",
   "execution_count": 5,
   "metadata": {},
   "outputs": [
    {
     "name": "stdout",
     "output_type": "stream",
     "text": [
      "47.82\n",
      "Sharp Objects\n",
      "Three\n"
     ]
    }
   ],
   "source": [
    "price = all_articles[0].find('p', attrs={'class': 'price_color'})\n",
    "print(float(price.get_text().split('£')[1]))\n",
    "\n",
    "book_name = all_articles[0].find('h3').find('a').get('title')\n",
    "print(book_name)\n",
    "\n",
    "rating = all_articles[12].find('p').get('class')[1]\n",
    "print(rating)"
   ]
  },
  {
   "cell_type": "code",
   "execution_count": 6,
   "metadata": {},
   "outputs": [],
   "source": [
    "def get_all_books_categories_links(link):\n",
    "    categories = {}\n",
    "    response = requests.request('GET', link)\n",
    "    soup = BeautifulSoup(response.content, 'html.parser')\n",
    "    all_book_links = soup.find('div', attrs={'class': 'side_categories'}).find('ul').find('li').find('ul').find_all('a')\n",
    "    for book_link in all_book_links:\n",
    "        true_url = book_link.get('href').replace('../', 'http://books.toscrape.com/catalogue/category/books/')\n",
    "        if true_url != 'index.html':\n",
    "            category_name = book_link.get_text().replace(' ', '').replace('\\n', '')\n",
    "            categories[category_name] = true_url\n",
    "    return categories"
   ]
  },
  {
   "cell_type": "code",
   "execution_count": 7,
   "metadata": {},
   "outputs": [
    {
     "data": {
      "text/html": [
       "<div>\n",
       "<style scoped>\n",
       "    .dataframe tbody tr th:only-of-type {\n",
       "        vertical-align: middle;\n",
       "    }\n",
       "\n",
       "    .dataframe tbody tr th {\n",
       "        vertical-align: top;\n",
       "    }\n",
       "\n",
       "    .dataframe thead th {\n",
       "        text-align: right;\n",
       "    }\n",
       "</style>\n",
       "<table border=\"1\" class=\"dataframe\">\n",
       "  <thead>\n",
       "    <tr style=\"text-align: right;\">\n",
       "      <th></th>\n",
       "      <th>Book_Name</th>\n",
       "      <th>Book_Ratting</th>\n",
       "      <th>Book_Price</th>\n",
       "      <th>Book_Category</th>\n",
       "    </tr>\n",
       "  </thead>\n",
       "  <tbody>\n",
       "  </tbody>\n",
       "</table>\n",
       "</div>"
      ],
      "text/plain": [
       "Empty DataFrame\n",
       "Columns: [Book_Name, Book_Ratting, Book_Price, Book_Category]\n",
       "Index: []"
      ]
     },
     "execution_count": 7,
     "metadata": {},
     "output_type": "execute_result"
    }
   ],
   "source": [
    "import pandas as pd\n",
    "df = pd.DataFrame(columns=['Book_Name', 'Book_Ratting', 'Book_Price', 'Book_Category'])\n",
    "df"
   ]
  },
  {
   "cell_type": "code",
   "execution_count": 8,
   "metadata": {},
   "outputs": [],
   "source": [
    "def get_books(page):\n",
    "    l = []\n",
    "    rates = {'One': 1, 'Two': 2, 'Three': 3, 'Four': 4, 'Five': 5}\n",
    "    response = requests.request('GET', page)\n",
    "    soup = BeautifulSoup(response.content, 'html.parser')\n",
    "    all_articles = soup.find_all('article', attrs={'class': 'product_pod'})\n",
    "    for article in all_articles:\n",
    "        price = float(article.find('p', attrs={'class': 'price_color'}).get_text().split('£')[1])\n",
    "        book_name = article.find('h3').find('a').get('title')\n",
    "        rating = article.find('p').get('class')[1]\n",
    "        dictt = {'Book_Name' : book_name, 'Book_Ratting' : rating, 'Book_Price' : price}\n",
    "        l.append(dictt)\n",
    "    return l"
   ]
  },
  {
   "cell_type": "code",
   "execution_count": 9,
   "metadata": {
    "scrolled": false
   },
   "outputs": [],
   "source": [
    "categories = get_all_books_categories_links('http://books.toscrape.com/catalogue/category/books/travel_2/index.html')\n",
    "for category_name, url in categories.items():\n",
    "    l = get_books(url)\n",
    "    for i in range(len(l)):\n",
    "        dictt = l[i]\n",
    "        dictt['Book_Category'] = category_name\n",
    "        df = df.append(dictt, ignore_index=True)"
   ]
  },
  {
   "cell_type": "code",
   "execution_count": 10,
   "metadata": {
    "scrolled": true
   },
   "outputs": [
    {
     "data": {
      "text/html": [
       "<div>\n",
       "<style scoped>\n",
       "    .dataframe tbody tr th:only-of-type {\n",
       "        vertical-align: middle;\n",
       "    }\n",
       "\n",
       "    .dataframe tbody tr th {\n",
       "        vertical-align: top;\n",
       "    }\n",
       "\n",
       "    .dataframe thead th {\n",
       "        text-align: right;\n",
       "    }\n",
       "</style>\n",
       "<table border=\"1\" class=\"dataframe\">\n",
       "  <thead>\n",
       "    <tr style=\"text-align: right;\">\n",
       "      <th></th>\n",
       "      <th>Book_Name</th>\n",
       "      <th>Book_Ratting</th>\n",
       "      <th>Book_Price</th>\n",
       "      <th>Book_Category</th>\n",
       "    </tr>\n",
       "  </thead>\n",
       "  <tbody>\n",
       "    <tr>\n",
       "      <th>0</th>\n",
       "      <td>Sharp Objects</td>\n",
       "      <td>Four</td>\n",
       "      <td>47.82</td>\n",
       "      <td>Mystery</td>\n",
       "    </tr>\n",
       "    <tr>\n",
       "      <th>1</th>\n",
       "      <td>In a Dark, Dark Wood</td>\n",
       "      <td>One</td>\n",
       "      <td>19.63</td>\n",
       "      <td>Mystery</td>\n",
       "    </tr>\n",
       "    <tr>\n",
       "      <th>2</th>\n",
       "      <td>The Past Never Ends</td>\n",
       "      <td>Four</td>\n",
       "      <td>56.50</td>\n",
       "      <td>Mystery</td>\n",
       "    </tr>\n",
       "    <tr>\n",
       "      <th>3</th>\n",
       "      <td>A Murder in Time</td>\n",
       "      <td>One</td>\n",
       "      <td>16.64</td>\n",
       "      <td>Mystery</td>\n",
       "    </tr>\n",
       "    <tr>\n",
       "      <th>4</th>\n",
       "      <td>The Murder of Roger Ackroyd (Hercule Poirot #4)</td>\n",
       "      <td>Four</td>\n",
       "      <td>44.10</td>\n",
       "      <td>Mystery</td>\n",
       "    </tr>\n",
       "    <tr>\n",
       "      <th>...</th>\n",
       "      <td>...</td>\n",
       "      <td>...</td>\n",
       "      <td>...</td>\n",
       "      <td>...</td>\n",
       "    </tr>\n",
       "    <tr>\n",
       "      <th>501</th>\n",
       "      <td>Why the Right Went Wrong: Conservatism--From G...</td>\n",
       "      <td>Four</td>\n",
       "      <td>52.65</td>\n",
       "      <td>Politics</td>\n",
       "    </tr>\n",
       "    <tr>\n",
       "      <th>502</th>\n",
       "      <td>Equal Is Unfair: America's Misguided Fight Aga...</td>\n",
       "      <td>One</td>\n",
       "      <td>56.86</td>\n",
       "      <td>Politics</td>\n",
       "    </tr>\n",
       "    <tr>\n",
       "      <th>503</th>\n",
       "      <td>Amid the Chaos</td>\n",
       "      <td>One</td>\n",
       "      <td>36.58</td>\n",
       "      <td>Cultural</td>\n",
       "    </tr>\n",
       "    <tr>\n",
       "      <th>504</th>\n",
       "      <td>Dark Notes</td>\n",
       "      <td>Five</td>\n",
       "      <td>19.19</td>\n",
       "      <td>Erotica</td>\n",
       "    </tr>\n",
       "    <tr>\n",
       "      <th>505</th>\n",
       "      <td>The Long Shadow of Small Ghosts: Murder and Me...</td>\n",
       "      <td>One</td>\n",
       "      <td>10.97</td>\n",
       "      <td>Crime</td>\n",
       "    </tr>\n",
       "  </tbody>\n",
       "</table>\n",
       "<p>506 rows × 4 columns</p>\n",
       "</div>"
      ],
      "text/plain": [
       "                                             Book_Name Book_Ratting  \\\n",
       "0                                        Sharp Objects         Four   \n",
       "1                                 In a Dark, Dark Wood          One   \n",
       "2                                  The Past Never Ends         Four   \n",
       "3                                     A Murder in Time          One   \n",
       "4      The Murder of Roger Ackroyd (Hercule Poirot #4)         Four   \n",
       "..                                                 ...          ...   \n",
       "501  Why the Right Went Wrong: Conservatism--From G...         Four   \n",
       "502  Equal Is Unfair: America's Misguided Fight Aga...          One   \n",
       "503                                     Amid the Chaos          One   \n",
       "504                                         Dark Notes         Five   \n",
       "505  The Long Shadow of Small Ghosts: Murder and Me...          One   \n",
       "\n",
       "     Book_Price Book_Category  \n",
       "0         47.82       Mystery  \n",
       "1         19.63       Mystery  \n",
       "2         56.50       Mystery  \n",
       "3         16.64       Mystery  \n",
       "4         44.10       Mystery  \n",
       "..          ...           ...  \n",
       "501       52.65      Politics  \n",
       "502       56.86      Politics  \n",
       "503       36.58      Cultural  \n",
       "504       19.19       Erotica  \n",
       "505       10.97         Crime  \n",
       "\n",
       "[506 rows x 4 columns]"
      ]
     },
     "execution_count": 10,
     "metadata": {},
     "output_type": "execute_result"
    }
   ],
   "source": [
    "df"
   ]
  },
  {
   "cell_type": "code",
   "execution_count": 11,
   "metadata": {},
   "outputs": [],
   "source": [
    "df.to_csv('Books.csv')"
   ]
  },
  {
   "cell_type": "markdown",
   "metadata": {},
   "source": [
    "## Good Job!"
   ]
  }
 ],
 "metadata": {
  "kernelspec": {
   "display_name": "Python 3 (ipykernel)",
   "language": "python",
   "name": "python3"
  },
  "language_info": {
   "codemirror_mode": {
    "name": "ipython",
    "version": 3
   },
   "file_extension": ".py",
   "mimetype": "text/x-python",
   "name": "python",
   "nbconvert_exporter": "python",
   "pygments_lexer": "ipython3",
   "version": "3.10.0"
  }
 },
 "nbformat": 4,
 "nbformat_minor": 4
}
